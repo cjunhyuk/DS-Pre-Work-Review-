{
 "cells": [
  {
   "cell_type": "markdown",
   "metadata": {},
   "source": [
    "# Review of Pre-Work & Python Fundamentals "
   ]
  },
  {
   "cell_type": "markdown",
   "metadata": {},
   "source": [
    "## Lecture Notes "
   ]
  },
  {
   "cell_type": "code",
   "execution_count": null,
   "metadata": {},
   "outputs": [],
   "source": [
    "#Notes Here"
   ]
  },
  {
   "cell_type": "code",
   "execution_count": 2,
   "metadata": {},
   "outputs": [
    {
     "data": {
      "text/plain": [
       "30"
      ]
     },
     "execution_count": 2,
     "metadata": {},
     "output_type": "execute_result"
    }
   ],
   "source": [
    "x = 8\n",
    "y = 2\n",
    "z = 3\n",
    "\n",
    "math1 = (x + y) * z\n",
    "math1"
   ]
  },
  {
   "cell_type": "markdown",
   "metadata": {},
   "source": [
    "## Section 1:  Python Data Types & Fundamentals"
   ]
  },
  {
   "cell_type": "markdown",
   "metadata": {},
   "source": [
    "### Question 1 :  Change x to a STRING "
   ]
  },
  {
   "cell_type": "code",
   "execution_count": 5,
   "metadata": {},
   "outputs": [
    {
     "data": {
      "text/plain": [
       "'100'"
      ]
     },
     "execution_count": 5,
     "metadata": {},
     "output_type": "execute_result"
    }
   ],
   "source": [
    "x = 100 \n",
    "\n",
    "#Your Code Here\n",
    "x = str(x)\n",
    "x"
   ]
  },
  {
   "cell_type": "markdown",
   "metadata": {},
   "source": [
    "### Question 2:  Change the name variable to all lowercase "
   ]
  },
  {
   "cell_type": "code",
   "execution_count": 4,
   "metadata": {},
   "outputs": [
    {
     "data": {
      "text/plain": [
       "'jelly'"
      ]
     },
     "execution_count": 4,
     "metadata": {},
     "output_type": "execute_result"
    }
   ],
   "source": [
    "name = \"JELLY\"\n",
    "\n",
    "#Your code here \n",
    "name.lower()"
   ]
  },
  {
   "cell_type": "code",
   "execution_count": 10,
   "metadata": {},
   "outputs": [
    {
     "name": "stdout",
     "output_type": "stream",
     "text": [
      "I choose you, Bulbasaur\n"
     ]
    }
   ],
   "source": [
    "# string literals\n",
    "\n",
    "pokemon = \"Bulbasaur\"\n",
    "print(f\"I choose you, {pokemon}\")"
   ]
  },
  {
   "cell_type": "code",
   "execution_count": 21,
   "metadata": {},
   "outputs": [
    {
     "data": {
      "text/plain": [
       "[4, 16, 64]"
      ]
     },
     "execution_count": 21,
     "metadata": {},
     "output_type": "execute_result"
    }
   ],
   "source": [
    "#list comprendo\n",
    "\n",
    "nums = [2, 4, 8]\n",
    "\n",
    "squared_nums = [num**2 for num in nums]\n",
    "squared_nums"
   ]
  },
  {
   "cell_type": "code",
   "execution_count": 27,
   "metadata": {},
   "outputs": [
    {
     "data": {
      "text/plain": [
       "[5.0, 10.0]"
      ]
     },
     "execution_count": 27,
     "metadata": {},
     "output_type": "execute_result"
    }
   ],
   "source": [
    "nums = [10, 20, 31, 51, 61]\n",
    "\n",
    "#Divide even numbers in my list called nums by 2\n",
    "new_nums = [num/2 for num in nums if num %2 == 0]\n",
    "new_nums"
   ]
  },
  {
   "cell_type": "code",
   "execution_count": 28,
   "metadata": {},
   "outputs": [
    {
     "data": {
      "text/plain": [
       "[4, 16, 64]"
      ]
     },
     "execution_count": 28,
     "metadata": {},
     "output_type": "execute_result"
    }
   ],
   "source": [
    "#above in for loop\n",
    "nums = [2, 4, 8]\n",
    "new_list = []\n",
    "\n",
    "for value in nums:\n",
    "    new_list.append(value**2)\n",
    "new_list"
   ]
  },
  {
   "cell_type": "code",
   "execution_count": 30,
   "metadata": {},
   "outputs": [
    {
     "data": {
      "text/plain": [
       "['nick', 'andrew', 'ilene']"
      ]
     },
     "execution_count": 30,
     "metadata": {},
     "output_type": "execute_result"
    }
   ],
   "source": [
    "#more for loops\n",
    "\n",
    "names = ['Nick', 'Andrew', 'Ilene']\n",
    "\n",
    "upper_names = []\n",
    "for name in names:\n",
    "    upper_names.append(name.lower())\n",
    "upper_names"
   ]
  },
  {
   "cell_type": "code",
   "execution_count": 31,
   "metadata": {},
   "outputs": [
    {
     "data": {
      "text/plain": [
       "[5.0, 10.0, 15.0, 55, 65, 75]"
      ]
     },
     "execution_count": 31,
     "metadata": {},
     "output_type": "execute_result"
    }
   ],
   "source": [
    "#more more lists\n",
    "\n",
    "x = [10, 20, 30, 55, 65, 75]\n",
    "\n",
    "#for loop that divides even by 2 and returns all items in original list\n",
    "\n",
    "new_nums = []\n",
    "\n",
    "for num in x:\n",
    "    if num %2 == 0:\n",
    "        new_nums.append(num/2)\n",
    "    else:\n",
    "        new_nums.append(num)\n",
    "new_nums"
   ]
  },
  {
   "cell_type": "code",
   "execution_count": 33,
   "metadata": {},
   "outputs": [
    {
     "name": "stdout",
     "output_type": "stream",
     "text": [
      "dict_keys(['Name', 'Hobby'])\n",
      "dict_values(['Drew', 'Hiking'])\n",
      "dict_items([('Name', 'Drew'), ('Hobby', 'Hiking')])\n"
     ]
    }
   ],
   "source": [
    "#dictionaries\n",
    "\n",
    "my_dict = {'Name': 'Drew', 'Hobby': 'Hiking'}\n",
    "\n",
    "print(my_dict.keys())\n",
    "print(my_dict.values())\n",
    "print(my_dict.items())"
   ]
  },
  {
   "cell_type": "code",
   "execution_count": 37,
   "metadata": {
    "scrolled": true
   },
   "outputs": [
    {
     "data": {
      "text/plain": [
       "{0: 'apple', 1: 'kiwi', 2: 'plum'}"
      ]
     },
     "execution_count": 37,
     "metadata": {},
     "output_type": "execute_result"
    }
   ],
   "source": [
    "fruit = ['apple', 'kiwi', 'plum']\n",
    "\n",
    "fruit_dict = dict(zip(range(3), fruit))\n",
    "fruit_dict"
   ]
  },
  {
   "cell_type": "code",
   "execution_count": 1,
   "metadata": {},
   "outputs": [
    {
     "data": {
      "text/plain": [
       "['John bonus recipient', 'Samira bonus recipient', 'Nick bonus recipient']"
      ]
     },
     "execution_count": 1,
     "metadata": {},
     "output_type": "execute_result"
    }
   ],
   "source": [
    "#dictionaries in for loops\n",
    "\n",
    "bonus = {'John': 6000, 'Samira': 6600, 'Nick': 7000}\n",
    "\n",
    "#create a for loop that extracts the keys from 'bonus' and adds 'bonus recipient' at the end of each key\n",
    "\n",
    "bonus_names = []\n",
    "\n",
    "for k in bonus.keys():\n",
    "    bonus_names.append(k + ' bonus recipient')\n",
    "bonus_names\n",
    "\n",
    "# or\n",
    "# for k,v in bonus.items():"
   ]
  },
  {
   "cell_type": "code",
   "execution_count": 3,
   "metadata": {},
   "outputs": [
    {
     "data": {
      "text/plain": [
       "[3920.0, 4800.0, 4200.0]"
      ]
     },
     "execution_count": 3,
     "metadata": {},
     "output_type": "execute_result"
    }
   ],
   "source": [
    "# more dictionaries\n",
    "\n",
    "salaries = {'Richard': 98000, 'Jason': 120000, 'Dara': 105000}\n",
    "\n",
    "#create a for loop that calculates a 4% bonus for each person and adds the bonus values to an empty list\n",
    "\n",
    "mo_money = []\n",
    "\n",
    "for v in salaries.values():\n",
    "    mo_money.append(v*0.04)\n",
    "mo_money"
   ]
  },
  {
   "cell_type": "code",
   "execution_count": 11,
   "metadata": {},
   "outputs": [
    {
     "data": {
      "text/plain": [
       "{'Trainee-1- Still in Training': 61200.0,\n",
       " 'Trainee-2- Still in Training': 63240.0}"
      ]
     },
     "execution_count": 11,
     "metadata": {},
     "output_type": "execute_result"
    }
   ],
   "source": [
    "# mo mo dicts\n",
    "\n",
    "people = {'Non-Trainee1': 75000, 'Non-trainee2': 80000, 'Trainee-1': 60000, 'Trainee-2': 62000}\n",
    "\n",
    "NonTrainee_List = []\n",
    "Trainee_List = []\n",
    "NonTraineeBonus = []\n",
    "Trainee_Bonus = []\n",
    "\n",
    "#create a for loop that adds the words '- Out of Training' to non-trainess AND\n",
    "#gives them a 5% bonus within that SAME loop add '- Still in Training' to trainees AND\n",
    "#gives them a 2% bonus\n",
    "#return all lists\n",
    "\n",
    "for k,v in people.items():\n",
    "    if \"Non\" in k:\n",
    "        NonTrainee_List.append(k+ '- Out of Training')\n",
    "        NonTraineeBonus.append(v*0.05 + v)\n",
    "    else:\n",
    "        Trainee_List.append(k+ '- Still in Training')\n",
    "        Trainee_Bonus.append(v*0.02 + v)\n",
    "\n",
    "# new_nontrain_dict = dict(zip(NonTrainee_List,NonTraineeBonus))\n",
    "# new_train_dict = dict(zip(Trainee_List,Trainee_Bonus))\n",
    "# new_nontrain_dict\n",
    "# new_train_dict"
   ]
  },
  {
   "cell_type": "code",
   "execution_count": 12,
   "metadata": {},
   "outputs": [
    {
     "data": {
      "text/plain": [
       "[2, 4, 8, 4]"
      ]
     },
     "execution_count": 12,
     "metadata": {},
     "output_type": "execute_result"
    }
   ],
   "source": [
    "#arrays v lists\n",
    "\n",
    "lists = [2, 4, 8]\n",
    "\n",
    "lists + [4]"
   ]
  },
  {
   "cell_type": "code",
   "execution_count": 16,
   "metadata": {},
   "outputs": [
    {
     "data": {
      "text/plain": [
       "array([ 6,  8, 12])"
      ]
     },
     "execution_count": 16,
     "metadata": {},
     "output_type": "execute_result"
    }
   ],
   "source": [
    "import numpy as np\n",
    "\n",
    "nums_array = np.array([2,4,8])\n",
    "nums_array + 4"
   ]
  },
  {
   "cell_type": "markdown",
   "metadata": {},
   "source": [
    "### Question 3:  Write if/else statements that prints out \"This is a fast course\" or \"This is not a fast course\" "
   ]
  },
  {
   "cell_type": "code",
   "execution_count": 13,
   "metadata": {},
   "outputs": [
    {
     "name": "stdout",
     "output_type": "stream",
     "text": [
      "This is not a fast course\n"
     ]
    }
   ],
   "source": [
    "fast_course = False\n",
    "\n",
    "if fast_course == True: \n",
    "    print(\"This is a fast course\")\n",
    "else: \n",
    "    print(\"This is not a fast course\")"
   ]
  },
  {
   "cell_type": "markdown",
   "metadata": {},
   "source": [
    "### Question 4:  Initialize a list with three words that describe you, then print out the 2nd element of the list "
   ]
  },
  {
   "cell_type": "code",
   "execution_count": 7,
   "metadata": {},
   "outputs": [
    {
     "data": {
      "text/plain": [
       "'Bald'"
      ]
     },
     "execution_count": 7,
     "metadata": {},
     "output_type": "execute_result"
    }
   ],
   "source": [
    "#Your Code Here\n",
    "\n",
    "mywords = [\"Chill\", \"Bald\", \"Asian\"]\n",
    "mywords[1]\n"
   ]
  },
  {
   "cell_type": "markdown",
   "metadata": {},
   "source": [
    "### Question 5:  Create a for loop that iterates through the list below, prints out, and adds 1 to the variable \"rounds\""
   ]
  },
  {
   "cell_type": "code",
   "execution_count": 8,
   "metadata": {},
   "outputs": [
    {
     "name": "stdout",
     "output_type": "stream",
     "text": [
      "0\n",
      "1\n",
      "2\n",
      "3\n"
     ]
    }
   ],
   "source": [
    "nums = [0,1,2,3]\n",
    "rounds = 0 #replace None with the appropiate value \n",
    "# [ function for x in iterable <if condition>]\n",
    "# condition is optional\n",
    "for num in nums : \n",
    "  #Complete for loop\n",
    "    print(rounds)\n",
    "    rounds += 1"
   ]
  },
  {
   "cell_type": "markdown",
   "metadata": {},
   "source": [
    "### Question 6:  Below is a 2x3 array.  Create a 3x3 array. "
   ]
  },
  {
   "cell_type": "code",
   "execution_count": 17,
   "metadata": {},
   "outputs": [
    {
     "data": {
      "text/plain": [
       "array([['a', '180', '100'],\n",
       "       ['b', '200', '122'],\n",
       "       ['c', '120', '144']], dtype='<U3')"
      ]
     },
     "execution_count": 17,
     "metadata": {},
     "output_type": "execute_result"
    }
   ],
   "source": [
    "import numpy as np \n",
    "\n",
    "test_array = np.array([['a', 180, 100], ['b', 200, 122], ['c', 120, 144]])\n",
    "test_array\n",
    "\n",
    "\n",
    "#Your code below here \n"
   ]
  },
  {
   "cell_type": "markdown",
   "metadata": {},
   "source": [
    "### Question 7:  Create a histogram that contains 12 data points from 100 to 350"
   ]
  },
  {
   "cell_type": "code",
   "execution_count": 18,
   "metadata": {},
   "outputs": [
    {
     "data": {
      "image/png": "[encoded data removed]",
      "text/plain": [
       "<Figure size 432x288 with 1 Axes>"
      ]
     },
     "metadata": {
      "needs_background": "light"
     },
     "output_type": "display_data"
    }
   ],
   "source": [
    "import matplotlib.pyplot as plt\n",
    "\n",
    "data = [] #Fill in the list with 12 points from 100 to 300 inclusive \n",
    "plt.hist(data, bins=5) #determine the size of the bins based on the data you chose above \n",
    "plt.title(\"\") #add your title \n",
    "plt.show()"
   ]
  },
  {
   "cell_type": "markdown",
   "metadata": {},
   "source": [
    "### Question 8:  Calculate the IQR of the following list and create a box plot "
   ]
  },
  {
   "cell_type": "code",
   "execution_count": null,
   "metadata": {},
   "outputs": [],
   "source": [
    "import numpy as np \n",
    "import matplotlib.pyplot as plt \n",
    "\n",
    "nums = [5, 10, 15, 22, 33, 51, 66, 89, 101, 115, 120, 135]\n",
    "\n",
    "np.percentile(nums, 75) - np.percentile() #fill in the second percentile function \n",
    "\n",
    "plt.style.use('ggplot') # for viewing a grid on plot\n",
    "plt.boxplot(None) #Replace None here \n",
    "plt.title (\"\") #Add a title \n",
    "plt.show()\n",
    "\n",
    "#Write a comment below to describe the dispersion of the box plot "
   ]
  },
  {
   "cell_type": "markdown",
   "metadata": {},
   "source": [
    "## Section 2:  Statistical Measures"
   ]
  },
  {
   "cell_type": "code",
   "execution_count": null,
   "metadata": {},
   "outputs": [],
   "source": [
    "#import the numpy and pandas libraries \n",
    "\n",
    "import numpy as np \n"
   ]
  },
  {
   "cell_type": "markdown",
   "metadata": {},
   "source": [
    "### Question 9:  Change the Python List below into an Array"
   ]
  },
  {
   "cell_type": "code",
   "execution_count": null,
   "metadata": {},
   "outputs": [],
   "source": [
    "#Python List \n",
    "\n",
    "list_x = [1, 2, 3]\n",
    "\n",
    "#Change the above list to an array\n",
    "\n",
    "array_x = None "
   ]
  },
  {
   "cell_type": "markdown",
   "metadata": {},
   "source": [
    "### Question 10:  Create a multidimensional array and find its shape"
   ]
  },
  {
   "cell_type": "code",
   "execution_count": null,
   "metadata": {},
   "outputs": [],
   "source": [
    "multi_x = None \n",
    "\n",
    "shape_x = None "
   ]
  },
  {
   "cell_type": "markdown",
   "metadata": {},
   "source": [
    "### Question 11:  Read in the cars.csv file and view the top 5 rows "
   ]
  },
  {
   "cell_type": "code",
   "execution_count": null,
   "metadata": {},
   "outputs": [],
   "source": [
    "#import the pandas library as pd \n",
    "\n",
    "cars = None #replace with reading in the csv \n",
    "\n",
    "#call the .head method on cars \n",
    "None "
   ]
  },
  {
   "cell_type": "markdown",
   "metadata": {},
   "source": [
    "## Section 3:  Data Visualizations "
   ]
  },
  {
   "cell_type": "code",
   "execution_count": null,
   "metadata": {},
   "outputs": [],
   "source": [
    "#Run without changes \n",
    "\n",
    "import matplotlib.pyplot as plt \n",
    "cars = pd.read_csv('data/cars.csv')"
   ]
  },
  {
   "cell_type": "markdown",
   "metadata": {},
   "source": [
    "### Question 12 - Create a scatterplot of the 'Fuel Information.City mpg' column vs. the 'Fuel Information. Highway mpg' column"
   ]
  },
  {
   "cell_type": "code",
   "execution_count": null,
   "metadata": {},
   "outputs": [],
   "source": [
    "#Create the plot \n",
    "\n",
    "fig, ax = plt.subplots()\n",
    "x = None\n",
    "y = None\n",
    "\n",
    "ax.scatter(x,y)"
   ]
  },
  {
   "cell_type": "markdown",
   "metadata": {},
   "source": [
    "### Question 13 - Create a histogrm of Fuel Information.City mpg"
   ]
  },
  {
   "cell_type": "code",
   "execution_count": null,
   "metadata": {},
   "outputs": [],
   "source": [
    "import pandas as pd\n",
    "import matplotlib.pyplot as plt "
   ]
  },
  {
   "cell_type": "code",
   "execution_count": null,
   "metadata": {},
   "outputs": [],
   "source": [
    "cars = pd.read_csv('data/cars.csv')\n",
    "cars.info()"
   ]
  },
  {
   "cell_type": "code",
   "execution_count": null,
   "metadata": {},
   "outputs": [],
   "source": [
    "#Create the plot \n",
    "\n",
    "fig, ax = plt.subplots()\n",
    "x = None\n",
    "ax.hist(x)\n",
    "plt.show()"
   ]
  },
  {
   "cell_type": "markdown",
   "metadata": {},
   "source": [
    "### Question 14 - Set x and y labels and a title for the above histogram"
   ]
  },
  {
   "cell_type": "code",
   "execution_count": null,
   "metadata": {},
   "outputs": [],
   "source": [
    "fig, ax = plt.subplots()\n",
    "None"
   ]
  }
 ],
 "metadata": {
  "kernelspec": {
   "display_name": "Python 3",
   "language": "python",
   "name": "python3"
  },
  "language_info": {
   "codemirror_mode": {
    "name": "ipython",
    "version": 3
   },
   "file_extension": ".py",
   "mimetype": "text/x-python",
   "name": "python",
   "nbconvert_exporter": "python",
   "pygments_lexer": "ipython3",
   "version": "3.8.5"
  }
 },
 "nbformat": 4,
 "nbformat_minor": 5
}
