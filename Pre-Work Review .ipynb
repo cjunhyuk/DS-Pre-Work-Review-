{
 "cells": [
  {
   "cell_type": "markdown",
   "metadata": {},
   "source": [
    "# Review of Pre-Work & Python Fundamentals "
   ]
  },
  {
   "cell_type": "markdown",
   "metadata": {},
   "source": [
    "## Lecture Notes "
   ]
  },
  {
   "cell_type": "code",
   "execution_count": null,
   "metadata": {},
   "outputs": [],
   "source": [
    "#Notes Here"
   ]
  },
  {
   "cell_type": "code",
   "execution_count": 2,
   "metadata": {},
   "outputs": [
    {
     "data": {
      "text/plain": [
       "30"
      ]
     },
     "execution_count": 2,
     "metadata": {},
     "output_type": "execute_result"
    }
   ],
   "source": [
    "x = 8\n",
    "y = 2\n",
    "z = 3\n",
    "\n",
    "math1 = (x + y) * z\n",
    "math1"
   ]
  },
  {
   "cell_type": "markdown",
   "metadata": {},
   "source": [
    "## Section 1:  Python Data Types & Fundamentals"
   ]
  },
  {
   "cell_type": "markdown",
   "metadata": {},
   "source": [
    "### Question 1 :  Change x to a STRING "
   ]
  },
  {
   "cell_type": "code",
   "execution_count": 5,
   "metadata": {},
   "outputs": [
    {
     "data": {
      "text/plain": [
       "'100'"
      ]
     },
     "execution_count": 5,
     "metadata": {},
     "output_type": "execute_result"
    }
   ],
   "source": [
    "x = 100 \n",
    "\n",
    "#Your Code Here\n",
    "x = str(x)\n",
    "x"
   ]
  },
  {
   "cell_type": "markdown",
   "metadata": {},
   "source": [
    "### Question 2:  Change the name variable to all lowercase "
   ]
  },
  {
   "cell_type": "code",
   "execution_count": 4,
   "metadata": {},
   "outputs": [
    {
     "data": {
      "text/plain": [
       "'jelly'"
      ]
     },
     "execution_count": 4,
     "metadata": {},
     "output_type": "execute_result"
    }
   ],
   "source": [
    "name = \"JELLY\"\n",
    "\n",
    "#Your code here \n",
    "name.lower()"
   ]
  },
  {
   "cell_type": "code",
   "execution_count": 10,
   "metadata": {},
   "outputs": [
    {
     "name": "stdout",
     "output_type": "stream",
     "text": [
      "I choose you, Bulbasaur\n"
     ]
    }
   ],
   "source": [
    "# string literals\n",
    "\n",
    "pokemon = \"Bulbasaur\"\n",
    "print(f\"I choose you, {pokemon}\")"
   ]
  },
  {
   "cell_type": "code",
   "execution_count": 21,
   "metadata": {},
   "outputs": [
    {
     "data": {
      "text/plain": [
       "[4, 16, 64]"
      ]
     },
     "execution_count": 21,
     "metadata": {},
     "output_type": "execute_result"
    }
   ],
   "source": [
    "#list comprendo\n",
    "\n",
    "nums = [2, 4, 8]\n",
    "\n",
    "squared_nums = [num**2 for num in nums]\n",
    "squared_nums"
   ]
  },
  {
   "cell_type": "code",
   "execution_count": 27,
   "metadata": {},
   "outputs": [
    {
     "data": {
      "text/plain": [
       "[5.0, 10.0]"
      ]
     },
     "execution_count": 27,
     "metadata": {},
     "output_type": "execute_result"
    }
   ],
   "source": [
    "nums = [10, 20, 31, 51, 61]\n",
    "\n",
    "#Divide even numbers in my list called nums by 2\n",
    "new_nums = [num/2 for num in nums if num %2 == 0]\n",
    "new_nums"
   ]
  },
  {
   "cell_type": "code",
   "execution_count": 28,
   "metadata": {},
   "outputs": [
    {
     "data": {
      "text/plain": [
       "[4, 16, 64]"
      ]
     },
     "execution_count": 28,
     "metadata": {},
     "output_type": "execute_result"
    }
   ],
   "source": [
    "#above in for loop\n",
    "nums = [2, 4, 8]\n",
    "new_list = []\n",
    "\n",
    "for value in nums:\n",
    "    new_list.append(value**2)\n",
    "new_list"
   ]
  },
  {
   "cell_type": "code",
   "execution_count": 30,
   "metadata": {},
   "outputs": [
    {
     "data": {
      "text/plain": [
       "['nick', 'andrew', 'ilene']"
      ]
     },
     "execution_count": 30,
     "metadata": {},
     "output_type": "execute_result"
    }
   ],
   "source": [
    "#more for loops\n",
    "\n",
    "names = ['Nick', 'Andrew', 'Ilene']\n",
    "\n",
    "upper_names = []\n",
    "for name in names:\n",
    "    upper_names.append(name.lower())\n",
    "upper_names"
   ]
  },
  {
   "cell_type": "code",
   "execution_count": 31,
   "metadata": {},
   "outputs": [
    {
     "data": {
      "text/plain": [
       "[5.0, 10.0, 15.0, 55, 65, 75]"
      ]
     },
     "execution_count": 31,
     "metadata": {},
     "output_type": "execute_result"
    }
   ],
   "source": [
    "#more more lists\n",
    "\n",
    "x = [10, 20, 30, 55, 65, 75]\n",
    "\n",
    "#for loop that divides even by 2 and returns all items in original list\n",
    "\n",
    "new_nums = []\n",
    "\n",
    "for num in x:\n",
    "    if num %2 == 0:\n",
    "        new_nums.append(num/2)\n",
    "    else:\n",
    "        new_nums.append(num)\n",
    "new_nums"
   ]
  },
  {
   "cell_type": "code",
   "execution_count": 33,
   "metadata": {},
   "outputs": [
    {
     "name": "stdout",
     "output_type": "stream",
     "text": [
      "dict_keys(['Name', 'Hobby'])\n",
      "dict_values(['Drew', 'Hiking'])\n",
      "dict_items([('Name', 'Drew'), ('Hobby', 'Hiking')])\n"
     ]
    }
   ],
   "source": [
    "#dictionaries\n",
    "\n",
    "my_dict = {'Name': 'Drew', 'Hobby': 'Hiking'}\n",
    "\n",
    "print(my_dict.keys())\n",
    "print(my_dict.values())\n",
    "print(my_dict.items())"
   ]
  },
  {
   "cell_type": "code",
   "execution_count": 37,
   "metadata": {
    "scrolled": true
   },
   "outputs": [
    {
     "data": {
      "text/plain": [
       "{0: 'apple', 1: 'kiwi', 2: 'plum'}"
      ]
     },
     "execution_count": 37,
     "metadata": {},
     "output_type": "execute_result"
    }
   ],
   "source": [
    "fruit = ['apple', 'kiwi', 'plum']\n",
    "\n",
    "fruit_dict = dict(zip(range(3), fruit))\n",
    "fruit_dict"
   ]
  },
  {
   "cell_type": "code",
   "execution_count": 1,
   "metadata": {},
   "outputs": [
    {
     "data": {
      "text/plain": [
       "['John bonus recipient', 'Samira bonus recipient', 'Nick bonus recipient']"
      ]
     },
     "execution_count": 1,
     "metadata": {},
     "output_type": "execute_result"
    }
   ],
   "source": [
    "#dictionaries in for loops\n",
    "\n",
    "bonus = {'John': 6000, 'Samira': 6600, 'Nick': 7000}\n",
    "\n",
    "#create a for loop that extracts the keys from 'bonus' and adds 'bonus recipient' at the end of each key\n",
    "\n",
    "bonus_names = []\n",
    "\n",
    "for k in bonus.keys():\n",
    "    bonus_names.append(k + ' bonus recipient')\n",
    "bonus_names\n",
    "\n",
    "# or\n",
    "# for k,v in bonus.items():"
   ]
  },
  {
   "cell_type": "code",
   "execution_count": 3,
   "metadata": {},
   "outputs": [
    {
     "data": {
      "text/plain": [
       "[3920.0, 4800.0, 4200.0]"
      ]
     },
     "execution_count": 3,
     "metadata": {},
     "output_type": "execute_result"
    }
   ],
   "source": [
    "# more dictionaries\n",
    "\n",
    "salaries = {'Richard': 98000, 'Jason': 120000, 'Dara': 105000}\n",
    "\n",
    "#create a for loop that calculates a 4% bonus for each person and adds the bonus values to an empty list\n",
    "\n",
    "mo_money = []\n",
    "\n",
    "for v in salaries.values():\n",
    "    mo_money.append(v*0.04)\n",
    "mo_money"
   ]
  },
  {
   "cell_type": "code",
   "execution_count": 11,
   "metadata": {},
   "outputs": [
    {
     "data": {
      "text/plain": [
       "{'Trainee-1- Still in Training': 61200.0,\n",
       " 'Trainee-2- Still in Training': 63240.0}"
      ]
     },
     "execution_count": 11,
     "metadata": {},
     "output_type": "execute_result"
    }
   ],
   "source": [
    "# mo mo dicts\n",
    "\n",
    "people = {'Non-Trainee1': 75000, 'Non-trainee2': 80000, 'Trainee-1': 60000, 'Trainee-2': 62000}\n",
    "\n",
    "NonTrainee_List = []\n",
    "Trainee_List = []\n",
    "NonTraineeBonus = []\n",
    "Trainee_Bonus = []\n",
    "\n",
    "#create a for loop that adds the words '- Out of Training' to non-trainess AND\n",
    "#gives them a 5% bonus within that SAME loop add '- Still in Training' to trainees AND\n",
    "#gives them a 2% bonus\n",
    "#return all lists\n",
    "\n",
    "for k,v in people.items():\n",
    "    if \"Non\" in k:\n",
    "        NonTrainee_List.append(k+ '- Out of Training')\n",
    "        NonTraineeBonus.append(v*0.05 + v)\n",
    "    else:\n",
    "        Trainee_List.append(k+ '- Still in Training')\n",
    "        Trainee_Bonus.append(v*0.02 + v)\n",
    "\n",
    "# new_nontrain_dict = dict(zip(NonTrainee_List,NonTraineeBonus))\n",
    "# new_train_dict = dict(zip(Trainee_List,Trainee_Bonus))\n",
    "# new_nontrain_dict\n",
    "# new_train_dict"
   ]
  },
  {
   "cell_type": "code",
   "execution_count": 12,
   "metadata": {},
   "outputs": [
    {
     "data": {
      "text/plain": [
       "[2, 4, 8, 4]"
      ]
     },
     "execution_count": 12,
     "metadata": {},
     "output_type": "execute_result"
    }
   ],
   "source": [
    "#arrays v lists\n",
    "\n",
    "lists = [2, 4, 8]\n",
    "\n",
    "lists + [4]"
   ]
  },
  {
   "cell_type": "code",
   "execution_count": 16,
   "metadata": {},
   "outputs": [
    {
     "data": {
      "text/plain": [
       "array([ 6,  8, 12])"
      ]
     },
     "execution_count": 16,
     "metadata": {},
     "output_type": "execute_result"
    }
   ],
   "source": [
    "import numpy as np\n",
    "\n",
    "nums_array = np.array([2,4,8])\n",
    "nums_array + 4"
   ]
  },
  {
   "cell_type": "markdown",
   "metadata": {},
   "source": [
    "### Question 3:  Write if/else statements that prints out \"This is a fast course\" or \"This is not a fast course\" "
   ]
  },
  {
   "cell_type": "code",
   "execution_count": 13,
   "metadata": {},
   "outputs": [
    {
     "name": "stdout",
     "output_type": "stream",
     "text": [
      "This is not a fast course\n"
     ]
    }
   ],
   "source": [
    "fast_course = False\n",
    "\n",
    "if fast_course == True: \n",
    "    print(\"This is a fast course\")\n",
    "else: \n",
    "    print(\"This is not a fast course\")"
   ]
  },
  {
   "cell_type": "markdown",
   "metadata": {},
   "source": [
    "### Question 4:  Initialize a list with three words that describe you, then print out the 2nd element of the list "
   ]
  },
  {
   "cell_type": "code",
   "execution_count": 7,
   "metadata": {},
   "outputs": [
    {
     "data": {
      "text/plain": [
       "'Bald'"
      ]
     },
     "execution_count": 7,
     "metadata": {},
     "output_type": "execute_result"
    }
   ],
   "source": [
    "#Your Code Here\n",
    "\n",
    "mywords = [\"Chill\", \"Bald\", \"Asian\"]\n",
    "mywords[1]\n"
   ]
  },
  {
   "cell_type": "markdown",
   "metadata": {},
   "source": [
    "### Question 5:  Create a for loop that iterates through the list below, prints out, and adds 1 to the variable \"rounds\""
   ]
  },
  {
   "cell_type": "code",
   "execution_count": 8,
   "metadata": {},
   "outputs": [
    {
     "name": "stdout",
     "output_type": "stream",
     "text": [
      "0\n",
      "1\n",
      "2\n",
      "3\n"
     ]
    }
   ],
   "source": [
    "nums = [0,1,2,3]\n",
    "rounds = 0 #replace None with the appropiate value \n",
    "# [ function for x in iterable <if condition>]\n",
    "# condition is optional\n",
    "for num in nums : \n",
    "  #Complete for loop\n",
    "    print(rounds)\n",
    "    rounds += 1"
   ]
  },
  {
   "cell_type": "markdown",
   "metadata": {},
   "source": [
    "### Question 6:  Below is a 2x3 array.  Create a 3x3 array. "
   ]
  },
  {
   "cell_type": "code",
   "execution_count": 17,
   "metadata": {},
   "outputs": [
    {
     "data": {
      "text/plain": [
       "array([['a', '180', '100'],\n",
       "       ['b', '200', '122'],\n",
       "       ['c', '120', '144']], dtype='<U3')"
      ]
     },
     "execution_count": 17,
     "metadata": {},
     "output_type": "execute_result"
    }
   ],
   "source": [
    "import numpy as np \n",
    "\n",
    "test_array = np.array([['a', 180, 100], ['b', 200, 122], ['c', 120, 144]])\n",
    "test_array\n",
    "\n",
    "\n",
    "#Your code below here \n"
   ]
  },
  {
   "cell_type": "markdown",
   "metadata": {},
   "source": [
    "### Question 7:  Create a histogram that contains 12 data points from 100 to 350"
   ]
  },
  {
   "cell_type": "code",
   "execution_count": 18,
   "metadata": {},
   "outputs": [
    {
     "data": {
      "image/png": "[encoded data removed]",
      "text/plain": [
       "<Figure size 432x288 with 1 Axes>"
      ]
     },
     "metadata": {
      "needs_background": "light"
     },
     "output_type": "display_data"
    }
   ],
   "source": [
    "import matplotlib.pyplot as plt\n",
    "\n",
    "data = [] #Fill in the list with 12 points from 100 to 300 inclusive \n",
    "plt.hist(data, bins=5) #determine the size of the bins based on the data you chose above \n",
    "plt.title(\"\") #add your title \n",
    "plt.show()"
   ]
  },
  {
   "cell_type": "markdown",
   "metadata": {},
   "source": [
    "### Question 8:  Calculate the IQR of the following list and create a box plot "
   ]
  },
  {
   "cell_type": "code",
   "execution_count": null,
   "metadata": {},
   "outputs": [],
   "source": [
    "import numpy as np \n",
    "import matplotlib.pyplot as plt \n",
    "\n",
    "nums = [5, 10, 15, 22, 33, 51, 66, 89, 101, 115, 120, 135]\n",
    "\n",
    "np.percentile(nums, 75) - np.percentile() #fill in the second percentile function \n",
    "\n",
    "plt.style.use('ggplot') # for viewing a grid on plot\n",
    "plt.boxplot(None) #Replace None here \n",
    "plt.title (\"\") #Add a title \n",
    "plt.show()\n",
    "\n",
    "#Write a comment below to describe the dispersion of the box plot "
   ]
  },
  {
   "cell_type": "markdown",
   "metadata": {},
   "source": [
    "## Section 2:  Statistical Measures"
   ]
  },
  {
   "cell_type": "code",
   "execution_count": null,
   "metadata": {},
   "outputs": [],
   "source": [
    "#import the numpy and pandas libraries \n",
    "\n",
    "import numpy as np \n"
   ]
  },
  {
   "cell_type": "markdown",
   "metadata": {},
   "source": [
    "### Question 9:  Change the Python List below into an Array"
   ]
  },
  {
   "cell_type": "code",
   "execution_count": null,
   "metadata": {},
   "outputs": [],
   "source": [
    "#Python List \n",
    "\n",
    "list_x = [1, 2, 3]\n",
    "\n",
    "#Change the above list to an array\n",
    "\n",
    "array_x = None "
   ]
  },
  {
   "cell_type": "markdown",
   "metadata": {},
   "source": [
    "### Question 10:  Create a multidimensional array and find its shape"
   ]
  },
  {
   "cell_type": "code",
   "execution_count": null,
   "metadata": {},
   "outputs": [],
   "source": [
    "multi_x = None \n",
    "\n",
    "shape_x = None "
   ]
  },
  {
   "cell_type": "markdown",
   "metadata": {},
   "source": [
    "### Question 11:  Read in the cars.csv file and view the top 5 rows "
   ]
  },
  {
   "cell_type": "code",
   "execution_count": 3,
   "metadata": {
    "collapsed": true
   },
   "outputs": [
    {
     "data": {
      "text/html": [
       "<div>\n",
       "<style scoped>\n",
       "    .dataframe tbody tr th:only-of-type {\n",
       "        vertical-align: middle;\n",
       "    }\n",
       "\n",
       "    .dataframe tbody tr th {\n",
       "        vertical-align: top;\n",
       "    }\n",
       "\n",
       "    .dataframe thead th {\n",
       "        text-align: right;\n",
       "    }\n",
       "</style>\n",
       "<table border=\"1\" class=\"dataframe\">\n",
       "  <thead>\n",
       "    <tr style=\"text-align: right;\">\n",
       "      <th></th>\n",
       "      <th>Dimensions.Height</th>\n",
       "      <th>Dimensions.Length</th>\n",
       "      <th>Dimensions.Width</th>\n",
       "      <th>Engine Information.Driveline</th>\n",
       "      <th>Engine Information.Engine Type</th>\n",
       "      <th>Engine Information.Hybrid</th>\n",
       "      <th>Engine Information.Number of Forward Gears</th>\n",
       "      <th>Engine Information.Transmission</th>\n",
       "      <th>Fuel Information.City mpg</th>\n",
       "      <th>Fuel Information.Fuel Type</th>\n",
       "      <th>Fuel Information.Highway mpg</th>\n",
       "      <th>Identification.Classification</th>\n",
       "      <th>Identification.ID</th>\n",
       "      <th>Identification.Make</th>\n",
       "      <th>Identification.Model Year</th>\n",
       "      <th>Identification.Year</th>\n",
       "      <th>Engine Information.Engine Statistics.Horsepower</th>\n",
       "      <th>Engine Information.Engine Statistics.Torque</th>\n",
       "    </tr>\n",
       "  </thead>\n",
       "  <tbody>\n",
       "    <tr>\n",
       "      <th>0</th>\n",
       "      <td>140</td>\n",
       "      <td>143</td>\n",
       "      <td>202</td>\n",
       "      <td>All-wheel drive</td>\n",
       "      <td>Audi 3.2L 6 cylinder 250hp 236ft-lbs</td>\n",
       "      <td>True</td>\n",
       "      <td>6</td>\n",
       "      <td>6 Speed Automatic Select Shift</td>\n",
       "      <td>18</td>\n",
       "      <td>Gasoline</td>\n",
       "      <td>25</td>\n",
       "      <td>Automatic transmission</td>\n",
       "      <td>2009 Audi A3 3.2</td>\n",
       "      <td>Audi</td>\n",
       "      <td>2009 Audi A3</td>\n",
       "      <td>2009</td>\n",
       "      <td>250</td>\n",
       "      <td>236</td>\n",
       "    </tr>\n",
       "    <tr>\n",
       "      <th>1</th>\n",
       "      <td>140</td>\n",
       "      <td>143</td>\n",
       "      <td>202</td>\n",
       "      <td>Front-wheel drive</td>\n",
       "      <td>Audi 2.0L 4 cylinder 200 hp 207 ft-lbs Turbo</td>\n",
       "      <td>True</td>\n",
       "      <td>6</td>\n",
       "      <td>6 Speed Automatic Select Shift</td>\n",
       "      <td>22</td>\n",
       "      <td>Gasoline</td>\n",
       "      <td>28</td>\n",
       "      <td>Automatic transmission</td>\n",
       "      <td>2009 Audi A3 2.0 T AT</td>\n",
       "      <td>Audi</td>\n",
       "      <td>2009 Audi A3</td>\n",
       "      <td>2009</td>\n",
       "      <td>200</td>\n",
       "      <td>207</td>\n",
       "    </tr>\n",
       "    <tr>\n",
       "      <th>2</th>\n",
       "      <td>140</td>\n",
       "      <td>143</td>\n",
       "      <td>202</td>\n",
       "      <td>Front-wheel drive</td>\n",
       "      <td>Audi 2.0L 4 cylinder 200 hp 207 ft-lbs Turbo</td>\n",
       "      <td>True</td>\n",
       "      <td>6</td>\n",
       "      <td>6 Speed Manual</td>\n",
       "      <td>21</td>\n",
       "      <td>Gasoline</td>\n",
       "      <td>30</td>\n",
       "      <td>Manual transmission</td>\n",
       "      <td>2009 Audi A3 2.0 T</td>\n",
       "      <td>Audi</td>\n",
       "      <td>2009 Audi A3</td>\n",
       "      <td>2009</td>\n",
       "      <td>200</td>\n",
       "      <td>207</td>\n",
       "    </tr>\n",
       "    <tr>\n",
       "      <th>3</th>\n",
       "      <td>140</td>\n",
       "      <td>143</td>\n",
       "      <td>202</td>\n",
       "      <td>All-wheel drive</td>\n",
       "      <td>Audi 2.0L 4 cylinder 200 hp 207 ft-lbs Turbo</td>\n",
       "      <td>True</td>\n",
       "      <td>6</td>\n",
       "      <td>6 Speed Automatic Select Shift</td>\n",
       "      <td>21</td>\n",
       "      <td>Gasoline</td>\n",
       "      <td>28</td>\n",
       "      <td>Automatic transmission</td>\n",
       "      <td>2009 Audi A3 2.0 T Quattro</td>\n",
       "      <td>Audi</td>\n",
       "      <td>2009 Audi A3</td>\n",
       "      <td>2009</td>\n",
       "      <td>200</td>\n",
       "      <td>207</td>\n",
       "    </tr>\n",
       "    <tr>\n",
       "      <th>4</th>\n",
       "      <td>140</td>\n",
       "      <td>143</td>\n",
       "      <td>202</td>\n",
       "      <td>All-wheel drive</td>\n",
       "      <td>Audi 2.0L 4 cylinder 200 hp 207 ft-lbs Turbo</td>\n",
       "      <td>True</td>\n",
       "      <td>6</td>\n",
       "      <td>6 Speed Automatic Select Shift</td>\n",
       "      <td>21</td>\n",
       "      <td>Gasoline</td>\n",
       "      <td>28</td>\n",
       "      <td>Automatic transmission</td>\n",
       "      <td>2009 Audi A3 2.0 T Quattro</td>\n",
       "      <td>Audi</td>\n",
       "      <td>2009 Audi A3</td>\n",
       "      <td>2009</td>\n",
       "      <td>200</td>\n",
       "      <td>207</td>\n",
       "    </tr>\n",
       "  </tbody>\n",
       "</table>\n",
       "</div>"
      ],
      "text/plain": [
       "   Dimensions.Height  Dimensions.Length  Dimensions.Width  \\\n",
       "0                140                143               202   \n",
       "1                140                143               202   \n",
       "2                140                143               202   \n",
       "3                140                143               202   \n",
       "4                140                143               202   \n",
       "\n",
       "  Engine Information.Driveline                Engine Information.Engine Type  \\\n",
       "0              All-wheel drive          Audi 3.2L 6 cylinder 250hp 236ft-lbs   \n",
       "1            Front-wheel drive  Audi 2.0L 4 cylinder 200 hp 207 ft-lbs Turbo   \n",
       "2            Front-wheel drive  Audi 2.0L 4 cylinder 200 hp 207 ft-lbs Turbo   \n",
       "3              All-wheel drive  Audi 2.0L 4 cylinder 200 hp 207 ft-lbs Turbo   \n",
       "4              All-wheel drive  Audi 2.0L 4 cylinder 200 hp 207 ft-lbs Turbo   \n",
       "\n",
       "   Engine Information.Hybrid  Engine Information.Number of Forward Gears  \\\n",
       "0                       True                                           6   \n",
       "1                       True                                           6   \n",
       "2                       True                                           6   \n",
       "3                       True                                           6   \n",
       "4                       True                                           6   \n",
       "\n",
       "  Engine Information.Transmission  Fuel Information.City mpg  \\\n",
       "0  6 Speed Automatic Select Shift                         18   \n",
       "1  6 Speed Automatic Select Shift                         22   \n",
       "2                  6 Speed Manual                         21   \n",
       "3  6 Speed Automatic Select Shift                         21   \n",
       "4  6 Speed Automatic Select Shift                         21   \n",
       "\n",
       "  Fuel Information.Fuel Type  Fuel Information.Highway mpg  \\\n",
       "0                   Gasoline                            25   \n",
       "1                   Gasoline                            28   \n",
       "2                   Gasoline                            30   \n",
       "3                   Gasoline                            28   \n",
       "4                   Gasoline                            28   \n",
       "\n",
       "  Identification.Classification           Identification.ID  \\\n",
       "0        Automatic transmission            2009 Audi A3 3.2   \n",
       "1        Automatic transmission       2009 Audi A3 2.0 T AT   \n",
       "2           Manual transmission          2009 Audi A3 2.0 T   \n",
       "3        Automatic transmission  2009 Audi A3 2.0 T Quattro   \n",
       "4        Automatic transmission  2009 Audi A3 2.0 T Quattro   \n",
       "\n",
       "  Identification.Make Identification.Model Year  Identification.Year  \\\n",
       "0                Audi              2009 Audi A3                 2009   \n",
       "1                Audi              2009 Audi A3                 2009   \n",
       "2                Audi              2009 Audi A3                 2009   \n",
       "3                Audi              2009 Audi A3                 2009   \n",
       "4                Audi              2009 Audi A3                 2009   \n",
       "\n",
       "   Engine Information.Engine Statistics.Horsepower  \\\n",
       "0                                              250   \n",
       "1                                              200   \n",
       "2                                              200   \n",
       "3                                              200   \n",
       "4                                              200   \n",
       "\n",
       "   Engine Information.Engine Statistics.Torque  \n",
       "0                                          236  \n",
       "1                                          207  \n",
       "2                                          207  \n",
       "3                                          207  \n",
       "4                                          207  "
      ]
     },
     "execution_count": 3,
     "metadata": {},
     "output_type": "execute_result"
    }
   ],
   "source": [
    "#import the pandas library as pd \n",
    "import pandas as pd\n",
    "\n",
    "cars =  pd.read_csv(\"data/cars.csv\")#replace with reading in the csv \n",
    "\n",
    "#call the .head method on cars \n",
    "cars.head()"
   ]
  },
  {
   "cell_type": "code",
   "execution_count": 4,
   "metadata": {
    "collapsed": true
   },
   "outputs": [
    {
     "data": {
      "text/html": [
       "<div>\n",
       "<style scoped>\n",
       "    .dataframe tbody tr th:only-of-type {\n",
       "        vertical-align: middle;\n",
       "    }\n",
       "\n",
       "    .dataframe tbody tr th {\n",
       "        vertical-align: top;\n",
       "    }\n",
       "\n",
       "    .dataframe thead th {\n",
       "        text-align: right;\n",
       "    }\n",
       "</style>\n",
       "<table border=\"1\" class=\"dataframe\">\n",
       "  <thead>\n",
       "    <tr style=\"text-align: right;\">\n",
       "      <th></th>\n",
       "      <th>Dimensions.Height</th>\n",
       "      <th>Dimensions.Length</th>\n",
       "      <th>Dimensions.Width</th>\n",
       "      <th>Engine Information.Driveline</th>\n",
       "      <th>Engine Information.Engine Type</th>\n",
       "      <th>Engine Information.Hybrid</th>\n",
       "      <th>Engine Information.Number of Forward Gears</th>\n",
       "      <th>Engine Information.Transmission</th>\n",
       "      <th>Fuel Information.City mpg</th>\n",
       "      <th>Fuel Information.Fuel Type</th>\n",
       "      <th>Fuel Information.Highway mpg</th>\n",
       "      <th>Identification.Classification</th>\n",
       "      <th>Identification.ID</th>\n",
       "      <th>Identification.Make</th>\n",
       "      <th>Identification.Model Year</th>\n",
       "      <th>Identification.Year</th>\n",
       "      <th>Engine Information.Engine Statistics.Horsepower</th>\n",
       "      <th>Engine Information.Engine Statistics.Torque</th>\n",
       "    </tr>\n",
       "  </thead>\n",
       "  <tbody>\n",
       "    <tr>\n",
       "      <th>5071</th>\n",
       "      <td>13</td>\n",
       "      <td>253</td>\n",
       "      <td>201</td>\n",
       "      <td>Front-wheel drive</td>\n",
       "      <td>Honda 3.5L 6 Cylinder 250 hp 253 ft-lbs</td>\n",
       "      <td>True</td>\n",
       "      <td>5</td>\n",
       "      <td>5 Speed Automatic</td>\n",
       "      <td>18</td>\n",
       "      <td>Gasoline</td>\n",
       "      <td>25</td>\n",
       "      <td>Automatic transmission</td>\n",
       "      <td>2012 Honda Pilot EX-L</td>\n",
       "      <td>Honda</td>\n",
       "      <td>2012 Honda Pilot</td>\n",
       "      <td>2012</td>\n",
       "      <td>250</td>\n",
       "      <td>253</td>\n",
       "    </tr>\n",
       "    <tr>\n",
       "      <th>5072</th>\n",
       "      <td>141</td>\n",
       "      <td>249</td>\n",
       "      <td>108</td>\n",
       "      <td>All-wheel drive</td>\n",
       "      <td>Lamborghini 5.2L 10 cylinder 552 hp 398 ft-lbs</td>\n",
       "      <td>True</td>\n",
       "      <td>6</td>\n",
       "      <td>6 Speed Manual</td>\n",
       "      <td>12</td>\n",
       "      <td>Gasoline</td>\n",
       "      <td>20</td>\n",
       "      <td>Manual transmission</td>\n",
       "      <td>2012 Lamborghini Gallardo Coupe LP 560-4</td>\n",
       "      <td>Lamborghini</td>\n",
       "      <td>2012 Lamborghini Gallardo Coup</td>\n",
       "      <td>2012</td>\n",
       "      <td>552</td>\n",
       "      <td>398</td>\n",
       "    </tr>\n",
       "    <tr>\n",
       "      <th>5073</th>\n",
       "      <td>160</td>\n",
       "      <td>249</td>\n",
       "      <td>108</td>\n",
       "      <td>All-wheel drive</td>\n",
       "      <td>Lamborghini 5.2L 10 cylinder 552 hp 398 ft-lbs</td>\n",
       "      <td>True</td>\n",
       "      <td>6</td>\n",
       "      <td>6 Speed Manual</td>\n",
       "      <td>12</td>\n",
       "      <td>Gasoline</td>\n",
       "      <td>20</td>\n",
       "      <td>Manual transmission</td>\n",
       "      <td>2012 Lamborghini Gallardo LP 560-4 Spyder</td>\n",
       "      <td>Lamborghini</td>\n",
       "      <td>2012 Lamborghini Gallardo Spyder</td>\n",
       "      <td>2012</td>\n",
       "      <td>552</td>\n",
       "      <td>398</td>\n",
       "    </tr>\n",
       "    <tr>\n",
       "      <th>5074</th>\n",
       "      <td>200</td>\n",
       "      <td>210</td>\n",
       "      <td>110</td>\n",
       "      <td>Rear-wheel drive</td>\n",
       "      <td>BMW 3.0L 6 cylinder 315hp 330 ft-lbs Turbo</td>\n",
       "      <td>True</td>\n",
       "      <td>6</td>\n",
       "      <td>6 Speed Automatic Select Shift</td>\n",
       "      <td>17</td>\n",
       "      <td>Gasoline</td>\n",
       "      <td>25</td>\n",
       "      <td>Automatic transmission</td>\n",
       "      <td>2012 BMW 740i Sedan</td>\n",
       "      <td>BMW</td>\n",
       "      <td>2012 BMW 7 Series</td>\n",
       "      <td>2012</td>\n",
       "      <td>315</td>\n",
       "      <td>330</td>\n",
       "    </tr>\n",
       "    <tr>\n",
       "      <th>5075</th>\n",
       "      <td>200</td>\n",
       "      <td>94</td>\n",
       "      <td>110</td>\n",
       "      <td>Rear-wheel drive</td>\n",
       "      <td>BMW 3.0L 6 cylinder 315hp 330 ft-lbs Turbo</td>\n",
       "      <td>True</td>\n",
       "      <td>6</td>\n",
       "      <td>6 Speed Automatic Select Shift</td>\n",
       "      <td>17</td>\n",
       "      <td>Gasoline</td>\n",
       "      <td>25</td>\n",
       "      <td>Automatic transmission</td>\n",
       "      <td>2012 BMW 740Li Sedan</td>\n",
       "      <td>BMW</td>\n",
       "      <td>2012 BMW 7 Series</td>\n",
       "      <td>2012</td>\n",
       "      <td>315</td>\n",
       "      <td>330</td>\n",
       "    </tr>\n",
       "  </tbody>\n",
       "</table>\n",
       "</div>"
      ],
      "text/plain": [
       "      Dimensions.Height  Dimensions.Length  Dimensions.Width  \\\n",
       "5071                 13                253               201   \n",
       "5072                141                249               108   \n",
       "5073                160                249               108   \n",
       "5074                200                210               110   \n",
       "5075                200                 94               110   \n",
       "\n",
       "     Engine Information.Driveline  \\\n",
       "5071            Front-wheel drive   \n",
       "5072              All-wheel drive   \n",
       "5073              All-wheel drive   \n",
       "5074             Rear-wheel drive   \n",
       "5075             Rear-wheel drive   \n",
       "\n",
       "                      Engine Information.Engine Type  \\\n",
       "5071         Honda 3.5L 6 Cylinder 250 hp 253 ft-lbs   \n",
       "5072  Lamborghini 5.2L 10 cylinder 552 hp 398 ft-lbs   \n",
       "5073  Lamborghini 5.2L 10 cylinder 552 hp 398 ft-lbs   \n",
       "5074      BMW 3.0L 6 cylinder 315hp 330 ft-lbs Turbo   \n",
       "5075      BMW 3.0L 6 cylinder 315hp 330 ft-lbs Turbo   \n",
       "\n",
       "      Engine Information.Hybrid  Engine Information.Number of Forward Gears  \\\n",
       "5071                       True                                           5   \n",
       "5072                       True                                           6   \n",
       "5073                       True                                           6   \n",
       "5074                       True                                           6   \n",
       "5075                       True                                           6   \n",
       "\n",
       "     Engine Information.Transmission  Fuel Information.City mpg  \\\n",
       "5071               5 Speed Automatic                         18   \n",
       "5072                  6 Speed Manual                         12   \n",
       "5073                  6 Speed Manual                         12   \n",
       "5074  6 Speed Automatic Select Shift                         17   \n",
       "5075  6 Speed Automatic Select Shift                         17   \n",
       "\n",
       "     Fuel Information.Fuel Type  Fuel Information.Highway mpg  \\\n",
       "5071                   Gasoline                            25   \n",
       "5072                   Gasoline                            20   \n",
       "5073                   Gasoline                            20   \n",
       "5074                   Gasoline                            25   \n",
       "5075                   Gasoline                            25   \n",
       "\n",
       "     Identification.Classification                          Identification.ID  \\\n",
       "5071        Automatic transmission                      2012 Honda Pilot EX-L   \n",
       "5072           Manual transmission   2012 Lamborghini Gallardo Coupe LP 560-4   \n",
       "5073           Manual transmission  2012 Lamborghini Gallardo LP 560-4 Spyder   \n",
       "5074        Automatic transmission                        2012 BMW 740i Sedan   \n",
       "5075        Automatic transmission                       2012 BMW 740Li Sedan   \n",
       "\n",
       "     Identification.Make         Identification.Model Year  \\\n",
       "5071               Honda                  2012 Honda Pilot   \n",
       "5072         Lamborghini    2012 Lamborghini Gallardo Coup   \n",
       "5073         Lamborghini  2012 Lamborghini Gallardo Spyder   \n",
       "5074                 BMW                 2012 BMW 7 Series   \n",
       "5075                 BMW                 2012 BMW 7 Series   \n",
       "\n",
       "      Identification.Year  Engine Information.Engine Statistics.Horsepower  \\\n",
       "5071                 2012                                              250   \n",
       "5072                 2012                                              552   \n",
       "5073                 2012                                              552   \n",
       "5074                 2012                                              315   \n",
       "5075                 2012                                              315   \n",
       "\n",
       "      Engine Information.Engine Statistics.Torque  \n",
       "5071                                          253  \n",
       "5072                                          398  \n",
       "5073                                          398  \n",
       "5074                                          330  \n",
       "5075                                          330  "
      ]
     },
     "execution_count": 4,
     "metadata": {},
     "output_type": "execute_result"
    }
   ],
   "source": [
    "cars.tail()"
   ]
  },
  {
   "cell_type": "code",
   "execution_count": 6,
   "metadata": {
    "collapsed": true
   },
   "outputs": [
    {
     "name": "stdout",
     "output_type": "stream",
     "text": [
      "<class 'pandas.core.frame.DataFrame'>\n",
      "RangeIndex: 5076 entries, 0 to 5075\n",
      "Data columns (total 18 columns):\n",
      " #   Column                                           Non-Null Count  Dtype \n",
      "---  ------                                           --------------  ----- \n",
      " 0   Dimensions.Height                                5076 non-null   int64 \n",
      " 1   Dimensions.Length                                5076 non-null   int64 \n",
      " 2   Dimensions.Width                                 5076 non-null   int64 \n",
      " 3   Engine Information.Driveline                     5076 non-null   object\n",
      " 4   Engine Information.Engine Type                   5076 non-null   object\n",
      " 5   Engine Information.Hybrid                        5076 non-null   bool  \n",
      " 6   Engine Information.Number of Forward Gears       5076 non-null   int64 \n",
      " 7   Engine Information.Transmission                  5076 non-null   object\n",
      " 8   Fuel Information.City mpg                        5076 non-null   int64 \n",
      " 9   Fuel Information.Fuel Type                       5076 non-null   object\n",
      " 10  Fuel Information.Highway mpg                     5076 non-null   int64 \n",
      " 11  Identification.Classification                    5076 non-null   object\n",
      " 12  Identification.ID                                5076 non-null   object\n",
      " 13  Identification.Make                              5076 non-null   object\n",
      " 14  Identification.Model Year                        5076 non-null   object\n",
      " 15  Identification.Year                              5076 non-null   int64 \n",
      " 16  Engine Information.Engine Statistics.Horsepower  5076 non-null   int64 \n",
      " 17  Engine Information.Engine Statistics.Torque      5076 non-null   int64 \n",
      "dtypes: bool(1), int64(9), object(8)\n",
      "memory usage: 679.2+ KB\n"
     ]
    }
   ],
   "source": [
    "cars.info()"
   ]
  },
  {
   "cell_type": "code",
   "execution_count": 7,
   "metadata": {
    "collapsed": true
   },
   "outputs": [
    {
     "data": {
      "text/html": [
       "<div>\n",
       "<style scoped>\n",
       "    .dataframe tbody tr th:only-of-type {\n",
       "        vertical-align: middle;\n",
       "    }\n",
       "\n",
       "    .dataframe tbody tr th {\n",
       "        vertical-align: top;\n",
       "    }\n",
       "\n",
       "    .dataframe thead th {\n",
       "        text-align: right;\n",
       "    }\n",
       "</style>\n",
       "<table border=\"1\" class=\"dataframe\">\n",
       "  <thead>\n",
       "    <tr style=\"text-align: right;\">\n",
       "      <th></th>\n",
       "      <th>Dimensions.Height</th>\n",
       "      <th>Dimensions.Length</th>\n",
       "      <th>Dimensions.Width</th>\n",
       "      <th>Engine Information.Number of Forward Gears</th>\n",
       "      <th>Fuel Information.City mpg</th>\n",
       "      <th>Fuel Information.Highway mpg</th>\n",
       "      <th>Identification.Year</th>\n",
       "      <th>Engine Information.Engine Statistics.Horsepower</th>\n",
       "      <th>Engine Information.Engine Statistics.Torque</th>\n",
       "    </tr>\n",
       "  </thead>\n",
       "  <tbody>\n",
       "    <tr>\n",
       "      <th>count</th>\n",
       "      <td>5076.000000</td>\n",
       "      <td>5076.000000</td>\n",
       "      <td>5076.000000</td>\n",
       "      <td>5076.000000</td>\n",
       "      <td>5076.000000</td>\n",
       "      <td>5076.000000</td>\n",
       "      <td>5076.000000</td>\n",
       "      <td>5076.000000</td>\n",
       "      <td>5076.000000</td>\n",
       "    </tr>\n",
       "    <tr>\n",
       "      <th>mean</th>\n",
       "      <td>145.632191</td>\n",
       "      <td>127.825847</td>\n",
       "      <td>144.012411</td>\n",
       "      <td>5.519110</td>\n",
       "      <td>17.275808</td>\n",
       "      <td>24.125493</td>\n",
       "      <td>2010.867612</td>\n",
       "      <td>270.499409</td>\n",
       "      <td>272.707250</td>\n",
       "    </tr>\n",
       "    <tr>\n",
       "      <th>std</th>\n",
       "      <td>62.125026</td>\n",
       "      <td>77.358295</td>\n",
       "      <td>79.925899</td>\n",
       "      <td>0.845637</td>\n",
       "      <td>4.479485</td>\n",
       "      <td>6.488293</td>\n",
       "      <td>0.782951</td>\n",
       "      <td>95.293537</td>\n",
       "      <td>100.123328</td>\n",
       "    </tr>\n",
       "    <tr>\n",
       "      <th>min</th>\n",
       "      <td>1.000000</td>\n",
       "      <td>2.000000</td>\n",
       "      <td>1.000000</td>\n",
       "      <td>4.000000</td>\n",
       "      <td>8.000000</td>\n",
       "      <td>11.000000</td>\n",
       "      <td>2009.000000</td>\n",
       "      <td>100.000000</td>\n",
       "      <td>98.000000</td>\n",
       "    </tr>\n",
       "    <tr>\n",
       "      <th>25%</th>\n",
       "      <td>104.000000</td>\n",
       "      <td>60.000000</td>\n",
       "      <td>62.000000</td>\n",
       "      <td>5.000000</td>\n",
       "      <td>14.000000</td>\n",
       "      <td>20.000000</td>\n",
       "      <td>2010.000000</td>\n",
       "      <td>190.000000</td>\n",
       "      <td>187.000000</td>\n",
       "    </tr>\n",
       "    <tr>\n",
       "      <th>50%</th>\n",
       "      <td>152.000000</td>\n",
       "      <td>128.000000</td>\n",
       "      <td>158.000000</td>\n",
       "      <td>6.000000</td>\n",
       "      <td>17.000000</td>\n",
       "      <td>24.000000</td>\n",
       "      <td>2011.000000</td>\n",
       "      <td>266.000000</td>\n",
       "      <td>260.000000</td>\n",
       "    </tr>\n",
       "    <tr>\n",
       "      <th>75%</th>\n",
       "      <td>193.000000</td>\n",
       "      <td>198.000000</td>\n",
       "      <td>219.000000</td>\n",
       "      <td>6.000000</td>\n",
       "      <td>20.000000</td>\n",
       "      <td>28.000000</td>\n",
       "      <td>2011.000000</td>\n",
       "      <td>317.000000</td>\n",
       "      <td>335.000000</td>\n",
       "    </tr>\n",
       "    <tr>\n",
       "      <th>max</th>\n",
       "      <td>255.000000</td>\n",
       "      <td>255.000000</td>\n",
       "      <td>254.000000</td>\n",
       "      <td>8.000000</td>\n",
       "      <td>38.000000</td>\n",
       "      <td>223.000000</td>\n",
       "      <td>2012.000000</td>\n",
       "      <td>638.000000</td>\n",
       "      <td>774.000000</td>\n",
       "    </tr>\n",
       "  </tbody>\n",
       "</table>\n",
       "</div>"
      ],
      "text/plain": [
       "       Dimensions.Height  Dimensions.Length  Dimensions.Width  \\\n",
       "count        5076.000000        5076.000000       5076.000000   \n",
       "mean          145.632191         127.825847        144.012411   \n",
       "std            62.125026          77.358295         79.925899   \n",
       "min             1.000000           2.000000          1.000000   \n",
       "25%           104.000000          60.000000         62.000000   \n",
       "50%           152.000000         128.000000        158.000000   \n",
       "75%           193.000000         198.000000        219.000000   \n",
       "max           255.000000         255.000000        254.000000   \n",
       "\n",
       "       Engine Information.Number of Forward Gears  Fuel Information.City mpg  \\\n",
       "count                                 5076.000000                5076.000000   \n",
       "mean                                     5.519110                  17.275808   \n",
       "std                                      0.845637                   4.479485   \n",
       "min                                      4.000000                   8.000000   \n",
       "25%                                      5.000000                  14.000000   \n",
       "50%                                      6.000000                  17.000000   \n",
       "75%                                      6.000000                  20.000000   \n",
       "max                                      8.000000                  38.000000   \n",
       "\n",
       "       Fuel Information.Highway mpg  Identification.Year  \\\n",
       "count                   5076.000000          5076.000000   \n",
       "mean                      24.125493          2010.867612   \n",
       "std                        6.488293             0.782951   \n",
       "min                       11.000000          2009.000000   \n",
       "25%                       20.000000          2010.000000   \n",
       "50%                       24.000000          2011.000000   \n",
       "75%                       28.000000          2011.000000   \n",
       "max                      223.000000          2012.000000   \n",
       "\n",
       "       Engine Information.Engine Statistics.Horsepower  \\\n",
       "count                                      5076.000000   \n",
       "mean                                        270.499409   \n",
       "std                                          95.293537   \n",
       "min                                         100.000000   \n",
       "25%                                         190.000000   \n",
       "50%                                         266.000000   \n",
       "75%                                         317.000000   \n",
       "max                                         638.000000   \n",
       "\n",
       "       Engine Information.Engine Statistics.Torque  \n",
       "count                                  5076.000000  \n",
       "mean                                    272.707250  \n",
       "std                                     100.123328  \n",
       "min                                      98.000000  \n",
       "25%                                     187.000000  \n",
       "50%                                     260.000000  \n",
       "75%                                     335.000000  \n",
       "max                                     774.000000  "
      ]
     },
     "execution_count": 7,
     "metadata": {},
     "output_type": "execute_result"
    }
   ],
   "source": [
    "cars.describe()"
   ]
  },
  {
   "cell_type": "markdown",
   "metadata": {},
   "source": [
    "## Section 3:  Data Visualizations "
   ]
  },
  {
   "cell_type": "code",
   "execution_count": 8,
   "metadata": {},
   "outputs": [],
   "source": [
    "#Run without changes \n",
    "\n",
    "import matplotlib.pyplot as plt \n",
    "cars = pd.read_csv('data/cars.csv')"
   ]
  },
  {
   "cell_type": "markdown",
   "metadata": {},
   "source": [
    "### Question 12 - Create a scatterplot of the 'Fuel Information.City mpg' column vs. the 'Fuel Information. Highway mpg' column"
   ]
  },
  {
   "cell_type": "code",
   "execution_count": 15,
   "metadata": {},
   "outputs": [
    {
     "data": {
      "image/png": "[encoded data removed]",
      "text/plain": [
       "<Figure size 432x288 with 1 Axes>"
      ]
     },
     "metadata": {
      "needs_background": "light"
     },
     "output_type": "display_data"
    }
   ],
   "source": [
    "#Create the plot \n",
    "\n",
    "fig, ax = plt.subplots()\n",
    "x = cars['Fuel Information.City mpg']\n",
    "y = cars['Fuel Information.Highway mpg']\n",
    "\n",
    "ax.set_xlabel('Miles Per Gallon City')\n",
    "ax.set_ylabel('Miles Per Gallon Highway')\n",
    "ax.set_title('City vs Highway (mpg)')\n",
    "ax.scatter(x,y);"
   ]
  },
  {
   "cell_type": "code",
   "execution_count": 16,
   "metadata": {},
   "outputs": [
    {
     "data": {
      "text/html": [
       "<div>\n",
       "<style scoped>\n",
       "    .dataframe tbody tr th:only-of-type {\n",
       "        vertical-align: middle;\n",
       "    }\n",
       "\n",
       "    .dataframe tbody tr th {\n",
       "        vertical-align: top;\n",
       "    }\n",
       "\n",
       "    .dataframe thead th {\n",
       "        text-align: right;\n",
       "    }\n",
       "</style>\n",
       "<table border=\"1\" class=\"dataframe\">\n",
       "  <thead>\n",
       "    <tr style=\"text-align: right;\">\n",
       "      <th></th>\n",
       "      <th>Dimensions.Height</th>\n",
       "      <th>Dimensions.Length</th>\n",
       "      <th>Dimensions.Width</th>\n",
       "      <th>Engine Information.Hybrid</th>\n",
       "      <th>Engine Information.Number of Forward Gears</th>\n",
       "      <th>Fuel Information.City mpg</th>\n",
       "      <th>Fuel Information.Highway mpg</th>\n",
       "      <th>Identification.Year</th>\n",
       "      <th>Engine Information.Engine Statistics.Horsepower</th>\n",
       "      <th>Engine Information.Engine Statistics.Torque</th>\n",
       "    </tr>\n",
       "  </thead>\n",
       "  <tbody>\n",
       "    <tr>\n",
       "      <th>Dimensions.Height</th>\n",
       "      <td>1.000000</td>\n",
       "      <td>0.051030</td>\n",
       "      <td>-0.220888</td>\n",
       "      <td>NaN</td>\n",
       "      <td>0.057769</td>\n",
       "      <td>0.249385</td>\n",
       "      <td>0.245169</td>\n",
       "      <td>0.035920</td>\n",
       "      <td>-0.152407</td>\n",
       "      <td>-0.182470</td>\n",
       "    </tr>\n",
       "    <tr>\n",
       "      <th>Dimensions.Length</th>\n",
       "      <td>0.051030</td>\n",
       "      <td>1.000000</td>\n",
       "      <td>0.016231</td>\n",
       "      <td>NaN</td>\n",
       "      <td>-0.041748</td>\n",
       "      <td>-0.018854</td>\n",
       "      <td>-0.010934</td>\n",
       "      <td>-0.031853</td>\n",
       "      <td>0.017107</td>\n",
       "      <td>0.024901</td>\n",
       "    </tr>\n",
       "    <tr>\n",
       "      <th>Dimensions.Width</th>\n",
       "      <td>-0.220888</td>\n",
       "      <td>0.016231</td>\n",
       "      <td>1.000000</td>\n",
       "      <td>NaN</td>\n",
       "      <td>-0.168376</td>\n",
       "      <td>-0.139998</td>\n",
       "      <td>-0.181577</td>\n",
       "      <td>-0.023347</td>\n",
       "      <td>0.036356</td>\n",
       "      <td>0.141035</td>\n",
       "    </tr>\n",
       "    <tr>\n",
       "      <th>Engine Information.Hybrid</th>\n",
       "      <td>NaN</td>\n",
       "      <td>NaN</td>\n",
       "      <td>NaN</td>\n",
       "      <td>NaN</td>\n",
       "      <td>NaN</td>\n",
       "      <td>NaN</td>\n",
       "      <td>NaN</td>\n",
       "      <td>NaN</td>\n",
       "      <td>NaN</td>\n",
       "      <td>NaN</td>\n",
       "    </tr>\n",
       "    <tr>\n",
       "      <th>Engine Information.Number of Forward Gears</th>\n",
       "      <td>0.057769</td>\n",
       "      <td>-0.041748</td>\n",
       "      <td>-0.168376</td>\n",
       "      <td>NaN</td>\n",
       "      <td>1.000000</td>\n",
       "      <td>-0.036348</td>\n",
       "      <td>0.052588</td>\n",
       "      <td>0.142507</td>\n",
       "      <td>0.319755</td>\n",
       "      <td>0.227386</td>\n",
       "    </tr>\n",
       "    <tr>\n",
       "      <th>Fuel Information.City mpg</th>\n",
       "      <td>0.249385</td>\n",
       "      <td>-0.018854</td>\n",
       "      <td>-0.139998</td>\n",
       "      <td>NaN</td>\n",
       "      <td>-0.036348</td>\n",
       "      <td>1.000000</td>\n",
       "      <td>0.865617</td>\n",
       "      <td>0.092046</td>\n",
       "      <td>-0.701537</td>\n",
       "      <td>-0.754664</td>\n",
       "    </tr>\n",
       "    <tr>\n",
       "      <th>Fuel Information.Highway mpg</th>\n",
       "      <td>0.245169</td>\n",
       "      <td>-0.010934</td>\n",
       "      <td>-0.181577</td>\n",
       "      <td>NaN</td>\n",
       "      <td>0.052588</td>\n",
       "      <td>0.865617</td>\n",
       "      <td>1.000000</td>\n",
       "      <td>0.111335</td>\n",
       "      <td>-0.548200</td>\n",
       "      <td>-0.617965</td>\n",
       "    </tr>\n",
       "    <tr>\n",
       "      <th>Identification.Year</th>\n",
       "      <td>0.035920</td>\n",
       "      <td>-0.031853</td>\n",
       "      <td>-0.023347</td>\n",
       "      <td>NaN</td>\n",
       "      <td>0.142507</td>\n",
       "      <td>0.092046</td>\n",
       "      <td>0.111335</td>\n",
       "      <td>1.000000</td>\n",
       "      <td>0.006454</td>\n",
       "      <td>-0.019583</td>\n",
       "    </tr>\n",
       "    <tr>\n",
       "      <th>Engine Information.Engine Statistics.Horsepower</th>\n",
       "      <td>-0.152407</td>\n",
       "      <td>0.017107</td>\n",
       "      <td>0.036356</td>\n",
       "      <td>NaN</td>\n",
       "      <td>0.319755</td>\n",
       "      <td>-0.701537</td>\n",
       "      <td>-0.548200</td>\n",
       "      <td>0.006454</td>\n",
       "      <td>1.000000</td>\n",
       "      <td>0.938304</td>\n",
       "    </tr>\n",
       "    <tr>\n",
       "      <th>Engine Information.Engine Statistics.Torque</th>\n",
       "      <td>-0.182470</td>\n",
       "      <td>0.024901</td>\n",
       "      <td>0.141035</td>\n",
       "      <td>NaN</td>\n",
       "      <td>0.227386</td>\n",
       "      <td>-0.754664</td>\n",
       "      <td>-0.617965</td>\n",
       "      <td>-0.019583</td>\n",
       "      <td>0.938304</td>\n",
       "      <td>1.000000</td>\n",
       "    </tr>\n",
       "  </tbody>\n",
       "</table>\n",
       "</div>"
      ],
      "text/plain": [
       "                                                 Dimensions.Height  \\\n",
       "Dimensions.Height                                         1.000000   \n",
       "Dimensions.Length                                         0.051030   \n",
       "Dimensions.Width                                         -0.220888   \n",
       "Engine Information.Hybrid                                      NaN   \n",
       "Engine Information.Number of Forward Gears                0.057769   \n",
       "Fuel Information.City mpg                                 0.249385   \n",
       "Fuel Information.Highway mpg                              0.245169   \n",
       "Identification.Year                                       0.035920   \n",
       "Engine Information.Engine Statistics.Horsepower          -0.152407   \n",
       "Engine Information.Engine Statistics.Torque              -0.182470   \n",
       "\n",
       "                                                 Dimensions.Length  \\\n",
       "Dimensions.Height                                         0.051030   \n",
       "Dimensions.Length                                         1.000000   \n",
       "Dimensions.Width                                          0.016231   \n",
       "Engine Information.Hybrid                                      NaN   \n",
       "Engine Information.Number of Forward Gears               -0.041748   \n",
       "Fuel Information.City mpg                                -0.018854   \n",
       "Fuel Information.Highway mpg                             -0.010934   \n",
       "Identification.Year                                      -0.031853   \n",
       "Engine Information.Engine Statistics.Horsepower           0.017107   \n",
       "Engine Information.Engine Statistics.Torque               0.024901   \n",
       "\n",
       "                                                 Dimensions.Width  \\\n",
       "Dimensions.Height                                       -0.220888   \n",
       "Dimensions.Length                                        0.016231   \n",
       "Dimensions.Width                                         1.000000   \n",
       "Engine Information.Hybrid                                     NaN   \n",
       "Engine Information.Number of Forward Gears              -0.168376   \n",
       "Fuel Information.City mpg                               -0.139998   \n",
       "Fuel Information.Highway mpg                            -0.181577   \n",
       "Identification.Year                                     -0.023347   \n",
       "Engine Information.Engine Statistics.Horsepower          0.036356   \n",
       "Engine Information.Engine Statistics.Torque              0.141035   \n",
       "\n",
       "                                                 Engine Information.Hybrid  \\\n",
       "Dimensions.Height                                                      NaN   \n",
       "Dimensions.Length                                                      NaN   \n",
       "Dimensions.Width                                                       NaN   \n",
       "Engine Information.Hybrid                                              NaN   \n",
       "Engine Information.Number of Forward Gears                             NaN   \n",
       "Fuel Information.City mpg                                              NaN   \n",
       "Fuel Information.Highway mpg                                           NaN   \n",
       "Identification.Year                                                    NaN   \n",
       "Engine Information.Engine Statistics.Horsepower                        NaN   \n",
       "Engine Information.Engine Statistics.Torque                            NaN   \n",
       "\n",
       "                                                 Engine Information.Number of Forward Gears  \\\n",
       "Dimensions.Height                                                                  0.057769   \n",
       "Dimensions.Length                                                                 -0.041748   \n",
       "Dimensions.Width                                                                  -0.168376   \n",
       "Engine Information.Hybrid                                                               NaN   \n",
       "Engine Information.Number of Forward Gears                                         1.000000   \n",
       "Fuel Information.City mpg                                                         -0.036348   \n",
       "Fuel Information.Highway mpg                                                       0.052588   \n",
       "Identification.Year                                                                0.142507   \n",
       "Engine Information.Engine Statistics.Horsepower                                    0.319755   \n",
       "Engine Information.Engine Statistics.Torque                                        0.227386   \n",
       "\n",
       "                                                 Fuel Information.City mpg  \\\n",
       "Dimensions.Height                                                 0.249385   \n",
       "Dimensions.Length                                                -0.018854   \n",
       "Dimensions.Width                                                 -0.139998   \n",
       "Engine Information.Hybrid                                              NaN   \n",
       "Engine Information.Number of Forward Gears                       -0.036348   \n",
       "Fuel Information.City mpg                                         1.000000   \n",
       "Fuel Information.Highway mpg                                      0.865617   \n",
       "Identification.Year                                               0.092046   \n",
       "Engine Information.Engine Statistics.Horsepower                  -0.701537   \n",
       "Engine Information.Engine Statistics.Torque                      -0.754664   \n",
       "\n",
       "                                                 Fuel Information.Highway mpg  \\\n",
       "Dimensions.Height                                                    0.245169   \n",
       "Dimensions.Length                                                   -0.010934   \n",
       "Dimensions.Width                                                    -0.181577   \n",
       "Engine Information.Hybrid                                                 NaN   \n",
       "Engine Information.Number of Forward Gears                           0.052588   \n",
       "Fuel Information.City mpg                                            0.865617   \n",
       "Fuel Information.Highway mpg                                         1.000000   \n",
       "Identification.Year                                                  0.111335   \n",
       "Engine Information.Engine Statistics.Horsepower                     -0.548200   \n",
       "Engine Information.Engine Statistics.Torque                         -0.617965   \n",
       "\n",
       "                                                 Identification.Year  \\\n",
       "Dimensions.Height                                           0.035920   \n",
       "Dimensions.Length                                          -0.031853   \n",
       "Dimensions.Width                                           -0.023347   \n",
       "Engine Information.Hybrid                                        NaN   \n",
       "Engine Information.Number of Forward Gears                  0.142507   \n",
       "Fuel Information.City mpg                                   0.092046   \n",
       "Fuel Information.Highway mpg                                0.111335   \n",
       "Identification.Year                                         1.000000   \n",
       "Engine Information.Engine Statistics.Horsepower             0.006454   \n",
       "Engine Information.Engine Statistics.Torque                -0.019583   \n",
       "\n",
       "                                                 Engine Information.Engine Statistics.Horsepower  \\\n",
       "Dimensions.Height                                                                      -0.152407   \n",
       "Dimensions.Length                                                                       0.017107   \n",
       "Dimensions.Width                                                                        0.036356   \n",
       "Engine Information.Hybrid                                                                    NaN   \n",
       "Engine Information.Number of Forward Gears                                              0.319755   \n",
       "Fuel Information.City mpg                                                              -0.701537   \n",
       "Fuel Information.Highway mpg                                                           -0.548200   \n",
       "Identification.Year                                                                     0.006454   \n",
       "Engine Information.Engine Statistics.Horsepower                                         1.000000   \n",
       "Engine Information.Engine Statistics.Torque                                             0.938304   \n",
       "\n",
       "                                                 Engine Information.Engine Statistics.Torque  \n",
       "Dimensions.Height                                                                  -0.182470  \n",
       "Dimensions.Length                                                                   0.024901  \n",
       "Dimensions.Width                                                                    0.141035  \n",
       "Engine Information.Hybrid                                                                NaN  \n",
       "Engine Information.Number of Forward Gears                                          0.227386  \n",
       "Fuel Information.City mpg                                                          -0.754664  \n",
       "Fuel Information.Highway mpg                                                       -0.617965  \n",
       "Identification.Year                                                                -0.019583  \n",
       "Engine Information.Engine Statistics.Horsepower                                     0.938304  \n",
       "Engine Information.Engine Statistics.Torque                                         1.000000  "
      ]
     },
     "execution_count": 16,
     "metadata": {},
     "output_type": "execute_result"
    }
   ],
   "source": [
    "cars.corr()"
   ]
  },
  {
   "cell_type": "markdown",
   "metadata": {},
   "source": [
    "### Question 13 - Create a histogrm of Fuel Information.City mpg"
   ]
  },
  {
   "cell_type": "code",
   "execution_count": null,
   "metadata": {},
   "outputs": [],
   "source": [
    "import pandas as pd\n",
    "import matplotlib.pyplot as plt "
   ]
  },
  {
   "cell_type": "code",
   "execution_count": null,
   "metadata": {},
   "outputs": [],
   "source": [
    "cars = pd.read_csv('data/cars.csv')\n",
    "cars.info()"
   ]
  },
  {
   "cell_type": "code",
   "execution_count": null,
   "metadata": {},
   "outputs": [],
   "source": [
    "#Create the plot \n",
    "\n",
    "fig, ax = plt.subplots()\n",
    "x = None\n",
    "ax.hist(x)\n",
    "plt.show()"
   ]
  },
  {
   "cell_type": "markdown",
   "metadata": {},
   "source": [
    "### Question 14 - Set x and y labels and a title for the above histogram"
   ]
  },
  {
   "cell_type": "code",
   "execution_count": null,
   "metadata": {},
   "outputs": [],
   "source": [
    "fig, ax = plt.subplots()\n",
    "None"
   ]
  }
 ],
 "metadata": {
  "kernelspec": {
   "display_name": "Python 3",
   "language": "python",
   "name": "python3"
  },
  "language_info": {
   "codemirror_mode": {
    "name": "ipython",
    "version": 3
   },
   "file_extension": ".py",
   "mimetype": "text/x-python",
   "name": "python",
   "nbconvert_exporter": "python",
   "pygments_lexer": "ipython3",
   "version": "3.8.5"
  }
 },
 "nbformat": 4,
 "nbformat_minor": 5
}
